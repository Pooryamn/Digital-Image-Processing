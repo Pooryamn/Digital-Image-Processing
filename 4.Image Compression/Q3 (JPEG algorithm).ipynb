{
  "nbformat": 4,
  "nbformat_minor": 0,
  "metadata": {
    "colab": {
      "name": "Q3_Answer.ipynb",
      "provenance": []
    },
    "kernelspec": {
      "name": "python3",
      "display_name": "Python 3"
    },
    "language_info": {
      "name": "python"
    }
  },
  "cells": [
    {
      "cell_type": "code",
      "metadata": {
        "id": "f71Va0zrj7-4"
      },
      "source": [
        "import numpy as np\n",
        "import cv2 as cv\n",
        "import matplotlib.pyplot as plt\n",
        "import scipy.fftpack as fftpack"
      ],
      "execution_count": null,
      "outputs": []
    },
    {
      "cell_type": "code",
      "metadata": {
        "id": "fOv28GNXTmd0"
      },
      "source": [
        "#### Vectors ####\n",
        "\n",
        "a = [-27, -17, -15, -3, 11, -4, -1, 0, 0, -1, -1, 0, 2, 0, 0, 0, 0, 0, 0, 0, 0, 0, 0, 0, 1, 'EOB']\n",
        "b = [-27, 17, -15, -3, -11, -4, 1, 0, 0, -1, -1, 0, 2, 0, 0, 0, 0, 0, 0, 0, 0, 0, 0, 0, -1, 'EOB']\n",
        "c = [-27, -17, 15, -3, -11, -4, -1, 0, 0, 1, -1, 0, 2, 0, 0, 0, 0, 0, 0, 0, 0, 0, 0, 0, -1, 'EOB']\n",
        "d = [-27, 17, 15, -3, 11, -4, 1, 0, 0, 1, -1, 0, 2, 0, 0, 0, 0, 0, 0, 0, 0, 0, 0, 0, 1, 'EOB']"
      ],
      "execution_count": null,
      "outputs": []
    },
    {
      "cell_type": "code",
      "metadata": {
        "id": "ueCuYeNPOf2j"
      },
      "source": [
        "#### Matrix Quantization ####\n",
        "\n",
        "Z = np.array([[16,11,10,16,24,40,51,61],\n",
        "              [12,12,14,19,26,58,60,55],\n",
        "              [14,13,16,24,40,57,69,56],\n",
        "              [14,17,22,29,51,87,80,62],\n",
        "              [18,22,37,56,68,109,103,77],\n",
        "              [24,35,55,64,81,104,113,92],\n",
        "              [49,64,78,87,103,121,120,101],\n",
        "              [72,92,95,98,112,100,130,99]])"
      ],
      "execution_count": null,
      "outputs": []
    },
    {
      "cell_type": "code",
      "metadata": {
        "id": "jqtK-QMeUvZ_"
      },
      "source": [
        "#### Define Image Show Function ####\n",
        "def show_image(img):\n",
        "  plt.imshow(img, cmap='gray')\n",
        "  plt.show()"
      ],
      "execution_count": null,
      "outputs": []
    },
    {
      "cell_type": "code",
      "metadata": {
        "id": "bg97Ly_UVw3V"
      },
      "source": [
        "#### Define vector_to_matrix Function ####\n",
        "\n",
        "def vector_to_matrix(n, seq, matrix):\n",
        "  zero_seq = [0.0] * ((n*n) - (len(seq) - 1))\n",
        "  seq.remove(seq[-1])\n",
        "  complete_seq = seq + zero_seq\n",
        "  sum_of_index = np.arange(n)\n",
        "  for k in sum_of_index:\n",
        "      for i in range(n):\n",
        "          for j in range(n):\n",
        "              sum = i + j\n",
        "              if (sum == k):\n",
        "                  matrix[i, j] = complete_seq[0]\n",
        "                  complete_seq.remove(complete_seq[0])\n",
        "\n",
        "  for i in range(n):\n",
        "      for j in range(i ,n):\n",
        "          sum = i + j\n",
        "          if (sum % 2 == 0):\n",
        "              swap = matrix[i, j]\n",
        "              matrix[i,j] = matrix[j, i]\n",
        "              matrix[j, i] = swap\n",
        "\n",
        "  return matrix"
      ],
      "execution_count": null,
      "outputs": []
    },
    {
      "cell_type": "code",
      "metadata": {
        "id": "fUvzqL2HVnWN"
      },
      "source": [
        "#### Define JPEG Decompression Function #####\n",
        "\n",
        "def jpeg_decompress(T_hat, Z):\n",
        "  T = T_hat * Z\n",
        "  T_dot = fftpack.idctn(T, norm='ortho')\n",
        "  T_dot = T_dot + 128\n",
        "\n",
        "  return T_dot"
      ],
      "execution_count": null,
      "outputs": []
    },
    {
      "cell_type": "code",
      "metadata": {
        "colab": {
          "base_uri": "https://localhost:8080/",
          "height": 265
        },
        "id": "v0f3LCALWOze",
        "outputId": "ca55a1e2-72cb-47cc-d0c0-72f79966250a"
      },
      "source": [
        "#### Decompress Vector \"a\" ####\n",
        "####  Show Decompressed Image  ####\n",
        "matrix = np.zeros((8, 8))\n",
        "T_hat1 = vector_to_matrix(8, a, matrix)\n",
        "T_dot1 = jpeg_decompress(T_hat1, Z)\n",
        "show_image(T_dot1)"
      ],
      "execution_count": null,
      "outputs": [
        {
          "output_type": "display_data",
          "data": {
            "image/png": "[encoded data removed]",
            "text/plain": [
              "<Figure size 432x288 with 1 Axes>"
            ]
          },
          "metadata": {
            "needs_background": "light"
          }
        }
      ]
    },
    {
      "cell_type": "code",
      "metadata": {
        "id": "71akXvy9ujjD"
      },
      "source": [
        "#### Decompress Vector \"b\", \"c\" And \"d\" ####\n",
        "\n",
        "matrix = np.zeros((8, 8))\n",
        "T_hat2 = vector_to_matrix(8, b, matrix)\n",
        "\n",
        "matrix = np.zeros((8, 8))\n",
        "T_hat3 = vector_to_matrix(8, c, matrix)\n",
        "\n",
        "matrix = np.zeros((8, 8))\n",
        "T_hat4 = vector_to_matrix(8, d, matrix)\n",
        "\n",
        "T_dot2 = jpeg_decompress(T_hat2, Z)\n",
        "T_dot3 = jpeg_decompress(T_hat3, Z)\n",
        "T_dot4 = jpeg_decompress(T_hat4, Z)"
      ],
      "execution_count": null,
      "outputs": []
    },
    {
      "cell_type": "code",
      "metadata": {
        "colab": {
          "base_uri": "https://localhost:8080/",
          "height": 265
        },
        "id": "oj2EaarQaCSp",
        "outputId": "0cf7e6f3-2d9c-4926-d407-d7648c36e630"
      },
      "source": [
        "#### Concatenate Decompressed Images ####\n",
        "####     Show Concatenated Image     ####\n",
        "\n",
        "ab = np.concatenate((T_dot1, T_dot2), axis=1)\n",
        "cd = np.concatenate((T_dot3, T_dot4), axis=1)\n",
        "abcd = np.concatenate((ab, cd), axis=0)\n",
        "show_image(abcd)"
      ],
      "execution_count": null,
      "outputs": [
        {
          "output_type": "display_data",
          "data": {
            "image/png": "[encoded data removed]",
            "text/plain": [
              "<Figure size 432x288 with 1 Axes>"
            ]
          },
          "metadata": {
            "needs_background": "light"
          }
        }
      ]
    },
    {
      "cell_type": "code",
      "metadata": {
        "id": "Hj-pQIxUWiTm"
      },
      "source": [
        ""
      ],
      "execution_count": null,
      "outputs": []
    }
  ]
}