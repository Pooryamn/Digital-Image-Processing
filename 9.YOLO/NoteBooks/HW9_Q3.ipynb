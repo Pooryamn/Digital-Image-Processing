{
 "cells": [
  {
   "cell_type": "code",
   "execution_count": 118,
   "metadata": {},
   "outputs": [],
   "source": [
    "import pandas as pd\n",
    "import numpy as np\n",
    "import matplotlib.pyplot as plt\n",
    "import cv2"
   ]
  },
  {
   "cell_type": "code",
   "execution_count": 45,
   "metadata": {},
   "outputs": [],
   "source": [
    "def wh2xy(Box):\n",
    "    x1 = Box[0]\n",
    "    y1 = Box[1]\n",
    "    x2 = Box[0] + Box[2]\n",
    "    y2 = Box[1] + Box[3]\n",
    "    \n",
    "    return [x1,y1,x2,y2]"
   ]
  },
  {
   "cell_type": "code",
   "execution_count": 75,
   "metadata": {},
   "outputs": [],
   "source": [
    "def intersection_over_union(boxA, boxB):\n",
    "    # determine the (x, y)-coordinates of the intersection rectangle\n",
    "    \n",
    "    xA = max(boxA[0], boxB[0])\n",
    "    yA = max(boxA[1], boxB[1])\n",
    "    xB = min(boxA[2], boxB[2])\n",
    "    yB = min(boxA[3], boxB[3])\n",
    "\n",
    "    # compute the area of intersection rectangle\n",
    "    interArea = max(0, xB - xA + 1) * max(0, yB - yA + 1)\n",
    "    # compute the area of both the prediction and ground-truth\n",
    "    # rectangles\n",
    "    boxAArea = (boxA[2] - boxA[0] + 1) * (boxA[3] - boxA[1] + 1)\n",
    "    boxBArea = (boxB[2] - boxB[0] + 1) * (boxB[3] - boxB[1] + 1)\n",
    "    # compute the intersection over union by taking the intersection\n",
    "    # area and dividing it by the sum of prediction + ground-truth\n",
    "    # areas - the interesection area\n",
    "    iou = interArea / float(boxAArea + boxBArea - interArea)\n",
    "    # return the intersection over union value\n",
    "    return iou"
   ]
  },
  {
   "cell_type": "code",
   "execution_count": 30,
   "metadata": {},
   "outputs": [
    {
     "name": "stdout",
     "output_type": "stream",
     "text": [
      "     x    y   w   h  score\n",
      "0   13    7  21  28   0.84\n",
      "1   18   39  31  23   0.79\n",
      "2   55   72  34  36   0.89\n",
      "3  110   27  10  17   0.96\n",
      "4   24   98  21  34   0.47\n",
      "5   34  148  39  24   0.39\n",
      "6  124  136  29  35   0.74\n",
      "7   92  153  27  47   0.29\n",
      "8  118   35  18  25   0.62\n",
      "     x    y   w   h\n",
      "0  153   21  20  25\n",
      "1  112   26   9  19\n",
      "2  125  135  30  35\n",
      "3   28  158  28  18\n",
      "4   12    7  22  27\n"
     ]
    }
   ],
   "source": [
    "predictions  = pd.read_excel(\"bounding box.xlsx\", sheet_name=0,index_col = None)\n",
    "ground_truth = pd.read_excel(\"bounding box.xlsx\", sheet_name=1,index_col = None)\n",
    "\n",
    "print(predictions)\n",
    "print(ground_truth)"
   ]
  },
  {
   "cell_type": "code",
   "execution_count": 59,
   "metadata": {},
   "outputs": [
    {
     "name": "stdout",
     "output_type": "stream",
     "text": [
      "       0      1      2      3     4\n",
      "0   13.0    7.0   34.0   35.0  0.84\n",
      "1   18.0   39.0   49.0   62.0  0.79\n",
      "2   55.0   72.0   89.0  108.0  0.89\n",
      "3  110.0   27.0  120.0   44.0  0.96\n",
      "4   24.0   98.0   45.0  132.0  0.47\n",
      "5   34.0  148.0   73.0  172.0  0.39\n",
      "6  124.0  136.0  153.0  171.0  0.74\n",
      "7   92.0  153.0  119.0  200.0  0.29\n",
      "8  118.0   35.0  136.0   60.0  0.62\n"
     ]
    }
   ],
   "source": [
    "pred = []\n",
    "\n",
    "for row in predictions.values:\n",
    "    pred.append(wh2xy(row[0:4]) + [row[-1]])\n",
    "    \n",
    "pred = pd.DataFrame(pred)\n",
    "print(pred)"
   ]
  },
  {
   "cell_type": "code",
   "execution_count": 91,
   "metadata": {},
   "outputs": [
    {
     "name": "stdout",
     "output_type": "stream",
     "text": [
      "     0    1    2    3\n",
      "0  153   21  173   46\n",
      "1  112   26  121   45\n",
      "2  125  135  155  170\n",
      "3   28  158   56  176\n",
      "4   12    7   34   34\n"
     ]
    }
   ],
   "source": [
    "G_T = []\n",
    "for row in ground_truth.values:\n",
    "    G_T.append(wh2xy(row[0:4]))\n",
    "    \n",
    "G_T = pd.DataFrame(G_T)\n",
    "print(G_T)"
   ]
  },
  {
   "cell_type": "code",
   "execution_count": 94,
   "metadata": {},
   "outputs": [],
   "source": [
    "matrix_of_IOU = []\n",
    "\n",
    "for i in range(len(ground_truth)):\n",
    "    tmp = []\n",
    "    for j in range(len(pred)):\n",
    "        tmp.append(intersection_over_union(G_T.loc[i].values,pred.loc[j].values))\n",
    "    matrix_of_IOU.append(tmp)"
   ]
  },
  {
   "cell_type": "code",
   "execution_count": 137,
   "metadata": {},
   "outputs": [
    {
     "name": "stdout",
     "output_type": "stream",
     "text": [
      "0.00|0.00|0.00|0.00|0.00|0.00|0.00|0.00|0.00|\n",
      "0.00|0.00|0.00|0.69|0.00|0.00|0.00|0.00|0.07|\n",
      "0.00|0.00|0.00|0.00|0.00|0.00|0.86|0.00|0.00|\n",
      "0.00|0.00|0.00|0.00|0.00|0.29|0.00|0.00|0.00|\n",
      "0.92|0.00|0.00|0.00|0.00|0.00|0.00|0.00|0.00|\n"
     ]
    }
   ],
   "source": [
    "for i in range(len(matrix_of_IOU)):\n",
    "    for j in range(len(matrix_of_IOU[0])):\n",
    "        print('{0:0.2f}'.format(matrix_of_IOU[i][j]),end='|')\n",
    "    print('')"
   ]
  },
  {
   "cell_type": "code",
   "execution_count": 120,
   "metadata": {},
   "outputs": [],
   "source": [
    "img = np.ones((210,200,3),dtype=np.uint8)\n",
    "img = img * 255"
   ]
  },
  {
   "cell_type": "code",
   "execution_count": 122,
   "metadata": {},
   "outputs": [
    {
     "data": {
      "image/png": "[encoded data removed]",
      "text/plain": [
       "<Figure size 432x288 with 1 Axes>"
      ]
     },
     "metadata": {
      "needs_background": "light"
     },
     "output_type": "display_data"
    },
    {
     "data": {
      "image/png": "[encoded data removed]",
      "text/plain": [
       "<Figure size 432x288 with 1 Axes>"
      ]
     },
     "metadata": {
      "needs_background": "light"
     },
     "output_type": "display_data"
    }
   ],
   "source": [
    "for row in G_T.values:\n",
    "    cv2.rectangle(img,(int(row[0]),int(row[1])),(int(row[2]),int(row[3])),color=(255,0,0))\n",
    "\n",
    "plt.imshow(img)    \n",
    "  \n",
    "for row in pred.values:\n",
    "    cv2.rectangle(img,(int(row[0]),int(row[1])),(int(row[2]),int(row[3])),color=(0,100,255))\n",
    "\n",
    "plt.figure()\n",
    "plt.imshow(img)\n",
    "plt.imsave('Fig5.jpg',img,dpi=300)"
   ]
  },
  {
   "cell_type": "code",
   "execution_count": 144,
   "metadata": {},
   "outputs": [
    {
     "data": {
      "image/png": "[encoded data removed]",
      "text/plain": [
       "<Figure size 1368x648 with 1 Axes>"
      ]
     },
     "metadata": {
      "needs_background": "light"
     },
     "output_type": "display_data"
    }
   ],
   "source": [
    "P_T1 = [1,1,0.666666667,0.75,0.8,0.666666667,0.714285714,0.625,0.555555556]\n",
    "R_T1 = [0.2,0.4,0.4,0.6,0.8,0.8,1,1,1]\n",
    "\n",
    "P_T2 = [1,1,0.666666667,0.75,0.6,0.5,0.571428571,0.5,0.444444444]\n",
    "R_T2 = [0.25,0.5,0.5,0.75,0.75,0.75,1,1,1]\n",
    "\n",
    "P_T3 = [1,0.5,0.333333333,0.5,0.4,0.333333333,0.285714286,0.25,0.222222222]\n",
    "R_T3 = [0.5,0.5,0.5,1,1,1,1,1,1]\n",
    "\n",
    "plt.figure(figsize=(19,9))\n",
    "ax = plt.plot(P_T1,R_T1,label='TH = 0.25')\n",
    "plt.plot(P_T2,R_T2,label='TH = 0.5')\n",
    "plt.plot(P_T3,R_T3,label='TH = 0.75')\n",
    "plt.legend()\n",
    "\n",
    "plt.savefig('Fig8.jpg',dpi= 500)"
   ]
  }
 ],
 "metadata": {
  "kernelspec": {
   "display_name": "Python 3",
   "language": "python",
   "name": "python3"
  },
  "language_info": {
   "codemirror_mode": {
    "name": "ipython",
    "version": 3
   },
   "file_extension": ".py",
   "mimetype": "text/x-python",
   "name": "python",
   "nbconvert_exporter": "python",
   "pygments_lexer": "ipython3",
   "version": "3.8.5"
  }
 },
 "nbformat": 4,
 "nbformat_minor": 4
}
